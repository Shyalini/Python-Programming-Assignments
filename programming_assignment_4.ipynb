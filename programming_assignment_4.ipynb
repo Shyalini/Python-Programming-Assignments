{
 "cells": [
  {
   "cell_type": "markdown",
   "id": "855896f9",
   "metadata": {},
   "source": [
    "1.\tWrite a Python Program to Find the Factorial of a Number?"
   ]
  },
  {
   "cell_type": "code",
   "execution_count": 2,
   "id": "5d39540e",
   "metadata": {},
   "outputs": [
    {
     "name": "stdout",
     "output_type": "stream",
     "text": [
      "Enter the number :6\n",
      "720\n"
     ]
    }
   ],
   "source": [
    "def factorial(number):\n",
    "    fact = 1\n",
    "    if number == 0:\n",
    "        return fact\n",
    "    elif number < 0:\n",
    "        return \"Factorial does not exist for negative numbers.\"\n",
    "    else:\n",
    "        for i in range(1, number+1):\n",
    "            fact *= i \n",
    "        return fact\n",
    "\n",
    "num = int(input(\"Enter the number :\"))\n",
    "print(factorial(num))"
   ]
  },
  {
   "cell_type": "markdown",
   "id": "4485fb2f",
   "metadata": {},
   "source": [
    "2.\tWrite a Python Program to Display the multiplication Table?"
   ]
  },
  {
   "cell_type": "code",
   "execution_count": 1,
   "id": "b8b55d10",
   "metadata": {},
   "outputs": [
    {
     "name": "stdout",
     "output_type": "stream",
     "text": [
      "Multiplication table of :10\n",
      "10 x 1 = 10\n",
      "10 x 2 = 20\n",
      "10 x 3 = 30\n",
      "10 x 4 = 40\n",
      "10 x 5 = 50\n",
      "10 x 6 = 60\n",
      "10 x 7 = 70\n",
      "10 x 8 = 80\n",
      "10 x 9 = 90\n",
      "10 x 10 = 100\n"
     ]
    }
   ],
   "source": [
    "def multiplication_table(n):\n",
    "    for count in range(1, 11):\n",
    "        print(f\"{n} x {count} = {n*count}\")\n",
    "              \n",
    "num = int(input(\"Multiplication table of :\"))\n",
    "multiplication_table(num)"
   ]
  },
  {
   "cell_type": "markdown",
   "id": "34c761aa",
   "metadata": {},
   "source": [
    "3.\tWrite a Python Program to Print the Fibonacci sequence?"
   ]
  },
  {
   "cell_type": "code",
   "execution_count": 1,
   "id": "4afdfb03",
   "metadata": {},
   "outputs": [
    {
     "name": "stdout",
     "output_type": "stream",
     "text": [
      "How many numbers :10\n",
      "[0, 1, 1, 2, 3, 5, 8, 13, 21, 34]\n"
     ]
    }
   ],
   "source": [
    "def fibonacci(n):\n",
    "    n1, n2 = 0, 1\n",
    "    if n <= 0:\n",
    "        return \"Please enter a positive integer\"\n",
    "    elif n == 1:\n",
    "        return n1\n",
    "    else:\n",
    "        fibonacci_nums = []\n",
    "        for _ in range(n):\n",
    "            fibonacci_nums.append(n1)\n",
    "            n1, n2 = n2, n1+n2\n",
    "        return fibonacci_nums\n",
    "\n",
    "num_terms = int(input(\"How many numbers :\"))\n",
    "print(fibonacci(num_terms))"
   ]
  },
  {
   "cell_type": "markdown",
   "id": "ec7f4be4",
   "metadata": {},
   "source": [
    "4.\tWrite a Python Program to Check Armstrong Number?"
   ]
  },
  {
   "cell_type": "code",
   "execution_count": 2,
   "id": "8a0b3f7d",
   "metadata": {},
   "outputs": [
    {
     "name": "stdout",
     "output_type": "stream",
     "text": [
      "Enter the number you want to check :1634\n",
      "The number 1634 is  an Amstrong Number\n"
     ]
    }
   ],
   "source": [
    "def amstrong_num_checker(n):\n",
    "    total = 0\n",
    "    for i in str(n):\n",
    "        total += int(i)**len(str(n))\n",
    "    if total == n:\n",
    "        return f\"The number {n} is  an Amstrong Number\"\n",
    "    return f\"The number {n} is  Not an Amstrong Number\"\n",
    "\n",
    "num = int(input(\"Enter the number you want to check :\"))\n",
    "print(amstrong_num_checker(num))"
   ]
  },
  {
   "cell_type": "markdown",
   "id": "135ec763",
   "metadata": {},
   "source": [
    "5.\tWrite a Python Program to Find Armstrong Number in an Interval?"
   ]
  },
  {
   "cell_type": "code",
   "execution_count": 3,
   "id": "4f956a1e",
   "metadata": {},
   "outputs": [
    {
     "name": "stdout",
     "output_type": "stream",
     "text": [
      "Enter lower limit :1\n",
      "Enter upper limit :1000\n",
      "[1, 2, 3, 4, 5, 6, 7, 8, 9, 153, 370, 371, 407]\n"
     ]
    }
   ],
   "source": [
    "def amstrong_num_checker(l, u):\n",
    "    amstrong_nums = []\n",
    "    for n in range(l, u+1):\n",
    "        total = 0\n",
    "        for i in str(n):\n",
    "            total += int(i)**len(str(n))\n",
    "        if total == n:\n",
    "            amstrong_nums.append(n)\n",
    "    return amstrong_nums\n",
    "\n",
    "lower = int(input(\"Enter lower limit :\"))\n",
    "upper = int(input(\"Enter upper limit :\"))\n",
    "print(amstrong_num_checker(lower, upper))"
   ]
  },
  {
   "cell_type": "markdown",
   "id": "f6c8fa46",
   "metadata": {},
   "source": [
    "6.\tWrite a Python Program to Find the Sum of Natural Numbers?"
   ]
  },
  {
   "cell_type": "code",
   "execution_count": 4,
   "id": "2c9c09ba",
   "metadata": {},
   "outputs": [
    {
     "name": "stdout",
     "output_type": "stream",
     "text": [
      "Enter upper limit :10\n",
      "55\n"
     ]
    }
   ],
   "source": [
    "def sum_natural_nums(u):\n",
    "    nums_sum = 0\n",
    "    if u <= 0:\n",
    "        print(\"Please enter a positive integer\")\n",
    "    else:\n",
    "        while u > 0:\n",
    "            nums_sum += u\n",
    "            u -= 1\n",
    "        return nums_sum\n",
    "\n",
    "upper = int(input(\"Enter upper limit :\"))\n",
    "print(sum_natural_nums(upper))"
   ]
  },
  {
   "cell_type": "code",
   "execution_count": null,
   "id": "3d0f17a4",
   "metadata": {},
   "outputs": [],
   "source": []
  }
 ],
 "metadata": {
  "kernelspec": {
   "display_name": "Python 3 (ipykernel)",
   "language": "python",
   "name": "python3"
  },
  "language_info": {
   "codemirror_mode": {
    "name": "ipython",
    "version": 3
   },
   "file_extension": ".py",
   "mimetype": "text/x-python",
   "name": "python",
   "nbconvert_exporter": "python",
   "pygments_lexer": "ipython3",
   "version": "3.9.7"
  }
 },
 "nbformat": 4,
 "nbformat_minor": 5
}
