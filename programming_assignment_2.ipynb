{
 "cells": [
  {
   "cell_type": "markdown",
   "id": "3d86d2aa",
   "metadata": {},
   "source": [
    "1.\tWrite a Python program to convert kilometers to miles?"
   ]
  },
  {
   "cell_type": "code",
   "execution_count": 1,
   "id": "a1f89072",
   "metadata": {},
   "outputs": [
    {
     "name": "stdout",
     "output_type": "stream",
     "text": [
      "Enter the value in kilometers :3\n"
     ]
    },
    {
     "data": {
      "text/plain": [
       "1.86"
      ]
     },
     "execution_count": 1,
     "metadata": {},
     "output_type": "execute_result"
    }
   ],
   "source": [
    "kilo_meter = float(input(\"Enter the value in kilometers :\"))\n",
    "\n",
    "def km_to_miles(km):\n",
    "    miles = round((km/ 1.609), 2)\n",
    "    return miles\n",
    "\n",
    "km_to_miles(kilo_meter)"
   ]
  },
  {
   "cell_type": "markdown",
   "id": "eac434c7",
   "metadata": {},
   "source": [
    "2.\tWrite a Python program to convert Celsius to Fahrenheit?"
   ]
  },
  {
   "cell_type": "code",
   "execution_count": 5,
   "id": "76aa11f8",
   "metadata": {},
   "outputs": [
    {
     "name": "stdout",
     "output_type": "stream",
     "text": [
      "Enter the value in celsius :37\n"
     ]
    },
    {
     "data": {
      "text/plain": [
       "98.6"
      ]
     },
     "execution_count": 5,
     "metadata": {},
     "output_type": "execute_result"
    }
   ],
   "source": [
    "celsius = float(input(\"Enter the value in celsius :\"))\n",
    "\n",
    "#Celsius to Fahrenheit converter\n",
    "def celsius_to_fah(c):\n",
    "    fahrenheit = round((c * 1.8) + 32, 2)\n",
    "    return fahrenheit\n",
    "\n",
    "celsius_to_fah(celsius)"
   ]
  },
  {
   "cell_type": "markdown",
   "id": "8bf48bf2",
   "metadata": {},
   "source": [
    "3.\tWrite a Python program to display calendar?"
   ]
  },
  {
   "cell_type": "code",
   "execution_count": 6,
   "id": "518c5695",
   "metadata": {},
   "outputs": [
    {
     "name": "stdout",
     "output_type": "stream",
     "text": [
      "Enter year in digits :2022\n",
      "Enter month in digits :3\n",
      "     March 2022\n",
      "Mo Tu We Th Fr Sa Su\n",
      "    1  2  3  4  5  6\n",
      " 7  8  9 10 11 12 13\n",
      "14 15 16 17 18 19 20\n",
      "21 22 23 24 25 26 27\n",
      "28 29 30 31\n",
      "\n"
     ]
    }
   ],
   "source": [
    "import calendar\n",
    "\n",
    "year = int(input(\"Enter year in digits :\"))\n",
    "month = int(input(\"Enter month in digits :\"))\n",
    "\n",
    "print(calendar.month(year, month))"
   ]
  },
  {
   "cell_type": "markdown",
   "id": "06c28142",
   "metadata": {},
   "source": [
    "4.\tWrite a Python program to solve quadratic equation?"
   ]
  },
  {
   "cell_type": "code",
   "execution_count": 7,
   "id": "dc76c636",
   "metadata": {},
   "outputs": [
    {
     "name": "stdout",
     "output_type": "stream",
     "text": [
      "Enter a :1\n",
      "Enter b :2\n",
      "Enter c :3\n"
     ]
    },
    {
     "data": {
      "text/plain": [
       "((-1+1.4142135623730951j), (-1-1.4142135623730951j))"
      ]
     },
     "execution_count": 7,
     "metadata": {},
     "output_type": "execute_result"
    }
   ],
   "source": [
    "from cmath import sqrt\n",
    "a = int(input(\"Enter a :\"))\n",
    "b = int(input(\"Enter b :\"))\n",
    "c = int(input(\"Enter c :\"))\n",
    "\n",
    "def solution(a, b, c):\n",
    "    sol1 = (-b + sqrt((b**2) - (4*a*c))) /(2*a)\n",
    "    sol2 = (-b - sqrt((b**2) - (4*a*c))) /(2*a)\n",
    "    return sol1, sol2\n",
    "\n",
    "solution(a, b, c)"
   ]
  },
  {
   "cell_type": "markdown",
   "id": "23478228",
   "metadata": {},
   "source": [
    "5.\tWrite a Python program to swap two variables without temp variable?"
   ]
  },
  {
   "cell_type": "code",
   "execution_count": 8,
   "id": "4ee8add3",
   "metadata": {},
   "outputs": [
    {
     "name": "stdout",
     "output_type": "stream",
     "text": [
      "abc 10\n",
      "10 abc\n"
     ]
    }
   ],
   "source": [
    "a = \"abc\"\n",
    "b = 10\n",
    "print(a, b)\n",
    "#swapping two variables\n",
    "a, b = b, a\n",
    "\n",
    "print(a, b)"
   ]
  },
  {
   "cell_type": "code",
   "execution_count": null,
   "id": "03a8f7d6",
   "metadata": {},
   "outputs": [],
   "source": []
  }
 ],
 "metadata": {
  "kernelspec": {
   "display_name": "Python 3 (ipykernel)",
   "language": "python",
   "name": "python3"
  },
  "language_info": {
   "codemirror_mode": {
    "name": "ipython",
    "version": 3
   },
   "file_extension": ".py",
   "mimetype": "text/x-python",
   "name": "python",
   "nbconvert_exporter": "python",
   "pygments_lexer": "ipython3",
   "version": "3.9.7"
  }
 },
 "nbformat": 4,
 "nbformat_minor": 5
}
